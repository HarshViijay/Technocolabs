{
 "cells": [
  {
   "cell_type": "code",
   "execution_count": 1,
   "metadata": {},
   "outputs": [],
   "source": [
    "import pandas as pd\n",
    "import numpy as np\n",
    "import matplotlib.pyplot as plt\n",
    "import seaborn as sns\n",
    "from sklearn.metrics import mean_squared_error, r2_score, mean_absolute_error\n",
    "from sklearn.model_selection import train_test_split\n",
    "from sklearn.preprocessing import LabelBinarizer\n",
    "from sklearn.dummy import DummyRegressor\n",
    "from sklearn.ensemble import RandomForestRegressor\n",
    "from sklearn.ensemble import GradientBoostingRegressor\n",
    "import warnings\n",
    "warnings.filterwarnings('ignore')"
   ]
  },
  {
   "cell_type": "code",
   "execution_count": 2,
   "metadata": {},
   "outputs": [],
   "source": [
    "def model_diagnostics(model, pr=True):\n",
    "    y_predicted = model.predict(X_test)\n",
    "    r2 = r2_score(y_test, y_predicted)\n",
    "    mse = mean_squared_error(y_test, y_predicted)\n",
    "    mae = mean_absolute_error(y_test, y_predicted)\n",
    "    if pr:\n",
    "        print(f\"R-Sq: {r2:.4}\")\n",
    "        print(f\"RMSE: {np.sqrt(mse)}\")\n",
    "        print(f\"MAE: {mae}\")\n",
    "    \n",
    "    return [r2,np.sqrt(mse),mae]\n",
    "\n",
    "def plot_residuals(y_test, y_predicted):\n",
    "    fig, (ax0, ax1) = plt.subplots(nrows=1, ncols=2, sharey=True)\n",
    "    sns.distplot(y_test, ax=ax0, kde = False)\n",
    "    ax0.set(xlabel='Test scores')\n",
    "    sns.distplot(y_predicted, ax=ax1, kde = False)\n",
    "    ax1.set(xlabel=\"Predicted scores\")\n",
    "    plt.show()\n",
    "    fig, ax2 = plt.subplots()\n",
    "    sns.distplot((y_test-y_predicted), ax = ax2,kde = False)\n",
    "    ax2.set(xlabel=\"Residuals\")\n",
    "    plt.show()\n",
    "    \n",
    "def y_test_vs_y_predicted(y_test,y_predicted):\n",
    "    fig, ax = plt.subplots()\n",
    "    ax.scatter(y_test, y_predicted)\n",
    "    ax.set_xlabel(\"Test Scores\")\n",
    "    ax.set_ylim([-75, 1400])\n",
    "    ax.set_ylabel(\"Predicted Scores\")\n",
    "    plt.show()\n",
    "    \n",
    "def get_feature_importance(model):\n",
    "    X_non_text = pd.get_dummies(df[cat_cols])\n",
    "    features = numeric_cols + bool_cols + list(X_non_text.columns)\n",
    "    feature_importance = dict(zip(features, model.feature_importances_))\n",
    "    for name, importance in sorted(feature_importance.items(), key=lambda x: x[1], reverse=True):\n",
    "        print(f\"{name:<30}: {importance:>6.2%}\")\n",
    "        print(f\"\\nTotal importance: {sum(feature_importance.values()):.2%}\")\n",
    "    return feature_importance"
   ]
  },
  {
   "cell_type": "code",
   "execution_count": 3,
   "metadata": {},
   "outputs": [
    {
     "data": {
      "text/html": [
       "<div>\n",
       "<style scoped>\n",
       "    .dataframe tbody tr th:only-of-type {\n",
       "        vertical-align: middle;\n",
       "    }\n",
       "\n",
       "    .dataframe tbody tr th {\n",
       "        vertical-align: top;\n",
       "    }\n",
       "\n",
       "    .dataframe thead th {\n",
       "        text-align: right;\n",
       "    }\n",
       "</style>\n",
       "<table border=\"1\" class=\"dataframe\">\n",
       "  <thead>\n",
       "    <tr style=\"text-align: right;\">\n",
       "      <th></th>\n",
       "      <th>Unnamed: 0</th>\n",
       "      <th>Title</th>\n",
       "      <th>Upvote_ratio</th>\n",
       "      <th>Score</th>\n",
       "      <th>Gilded</th>\n",
       "      <th>Over_18</th>\n",
       "      <th>Number_of_Comments</th>\n",
       "      <th>neg</th>\n",
       "      <th>neu</th>\n",
       "      <th>pos</th>\n",
       "      <th>compound</th>\n",
       "    </tr>\n",
       "  </thead>\n",
       "  <tbody>\n",
       "    <tr>\n",
       "      <td>0</td>\n",
       "      <td>0</td>\n",
       "      <td>House impeaches Trump for second time over Cap...</td>\n",
       "      <td>0.72</td>\n",
       "      <td>39464</td>\n",
       "      <td>2</td>\n",
       "      <td>False</td>\n",
       "      <td>8801</td>\n",
       "      <td>0.292</td>\n",
       "      <td>0.708</td>\n",
       "      <td>0.000</td>\n",
       "      <td>-0.5106</td>\n",
       "    </tr>\n",
       "    <tr>\n",
       "      <td>1</td>\n",
       "      <td>1</td>\n",
       "      <td>I'm a 16 yr old blacksmith and I forged this w...</td>\n",
       "      <td>0.90</td>\n",
       "      <td>29423</td>\n",
       "      <td>0</td>\n",
       "      <td>False</td>\n",
       "      <td>443</td>\n",
       "      <td>0.000</td>\n",
       "      <td>0.633</td>\n",
       "      <td>0.367</td>\n",
       "      <td>0.8268</td>\n",
       "    </tr>\n",
       "    <tr>\n",
       "      <td>2</td>\n",
       "      <td>2</td>\n",
       "      <td>Do some research before spouting nonsense</td>\n",
       "      <td>0.90</td>\n",
       "      <td>50420</td>\n",
       "      <td>0</td>\n",
       "      <td>False</td>\n",
       "      <td>1008</td>\n",
       "      <td>0.351</td>\n",
       "      <td>0.649</td>\n",
       "      <td>0.000</td>\n",
       "      <td>-0.4019</td>\n",
       "    </tr>\n",
       "    <tr>\n",
       "      <td>3</td>\n",
       "      <td>3</td>\n",
       "      <td>Moving boxes arrive at the White House</td>\n",
       "      <td>0.81</td>\n",
       "      <td>149858</td>\n",
       "      <td>6</td>\n",
       "      <td>False</td>\n",
       "      <td>4392</td>\n",
       "      <td>0.000</td>\n",
       "      <td>1.000</td>\n",
       "      <td>0.000</td>\n",
       "      <td>0.0000</td>\n",
       "    </tr>\n",
       "    <tr>\n",
       "      <td>4</td>\n",
       "      <td>4</td>\n",
       "      <td>“No One Took Us Seriously”: Black Cops Warned ...</td>\n",
       "      <td>0.98</td>\n",
       "      <td>7768</td>\n",
       "      <td>0</td>\n",
       "      <td>False</td>\n",
       "      <td>157</td>\n",
       "      <td>0.319</td>\n",
       "      <td>0.681</td>\n",
       "      <td>0.000</td>\n",
       "      <td>-0.7269</td>\n",
       "    </tr>\n",
       "  </tbody>\n",
       "</table>\n",
       "</div>"
      ],
      "text/plain": [
       "   Unnamed: 0                                              Title  \\\n",
       "0           0  House impeaches Trump for second time over Cap...   \n",
       "1           1  I'm a 16 yr old blacksmith and I forged this w...   \n",
       "2           2          Do some research before spouting nonsense   \n",
       "3           3             Moving boxes arrive at the White House   \n",
       "4           4  “No One Took Us Seriously”: Black Cops Warned ...   \n",
       "\n",
       "   Upvote_ratio   Score  Gilded  Over_18  Number_of_Comments    neg    neu  \\\n",
       "0          0.72   39464       2    False                8801  0.292  0.708   \n",
       "1          0.90   29423       0    False                 443  0.000  0.633   \n",
       "2          0.90   50420       0    False                1008  0.351  0.649   \n",
       "3          0.81  149858       6    False                4392  0.000  1.000   \n",
       "4          0.98    7768       0    False                 157  0.319  0.681   \n",
       "\n",
       "     pos  compound  \n",
       "0  0.000   -0.5106  \n",
       "1  0.367    0.8268  \n",
       "2  0.000   -0.4019  \n",
       "3  0.000    0.0000  \n",
       "4  0.000   -0.7269  "
      ]
     },
     "execution_count": 3,
     "metadata": {},
     "output_type": "execute_result"
    }
   ],
   "source": [
    "df = pd.read_csv(\"final.csv\")\n",
    "df.head()"
   ]
  },
  {
   "cell_type": "code",
   "execution_count": 4,
   "metadata": {},
   "outputs": [],
   "source": [
    "bools = ['Over_18']\n",
    "\n",
    "numerics = ['Gilded', 'Upvote_ratio', 'Number_of_Comments', 'neg', 'neu', 'pos', 'compound']"
   ]
  },
  {
   "cell_type": "code",
   "execution_count": 5,
   "metadata": {},
   "outputs": [],
   "source": [
    "lb = LabelBinarizer()\n",
    "bol = [df[col].astype('int') for col in bools]\n",
    "n = df.loc[:, numerics].values\n",
    "Final = [n] + bol\n",
    "y = df.Score.values\n",
    "x = np.column_stack(tuple(Final))"
   ]
  },
  {
   "cell_type": "code",
   "execution_count": 6,
   "metadata": {},
   "outputs": [],
   "source": [
    "X_train, X_test, y_train, y_test = train_test_split(x, y, test_size=0.2, random_state=10)"
   ]
  },
  {
   "cell_type": "code",
   "execution_count": 7,
   "metadata": {},
   "outputs": [],
   "source": [
    "model_performance_dict = dict()"
   ]
  },
  {
   "cell_type": "code",
   "execution_count": 8,
   "metadata": {},
   "outputs": [
    {
     "name": "stdout",
     "output_type": "stream",
     "text": [
      "R-Sq: -0.0007791\n",
      "RMSE: 12687.050268584993\n",
      "MAE: 5181.088269801615\n"
     ]
    }
   ],
   "source": [
    "#Baseline Model\n",
    "\n",
    "baseline = DummyRegressor(strategy='mean')\n",
    "baseline.fit(X_train,y_train)\n",
    "model_performance_dict[\"Baseline\"] = model_diagnostics(baseline)"
   ]
  },
  {
   "cell_type": "code",
   "execution_count": 9,
   "metadata": {},
   "outputs": [
    {
     "name": "stdout",
     "output_type": "stream",
     "text": [
      "R-Sq: 0.6014\n",
      "RMSE: 8007.033981304939\n",
      "MAE: 2845.406620125556\n"
     ]
    }
   ],
   "source": [
    "#Random Forest Regression\n",
    "\n",
    "rf = RandomForestRegressor(n_jobs=-1, n_estimators=70, min_samples_leaf=10, random_state = 10)\n",
    "rf.fit(X_train, y_train)\n",
    "model_performance_dict[\"Random Forest\"] = model_diagnostics(rf)"
   ]
  },
  {
   "cell_type": "code",
   "execution_count": 10,
   "metadata": {},
   "outputs": [
    {
     "name": "stdout",
     "output_type": "stream",
     "text": [
      "R-Sq: 0.5823\n",
      "RMSE: 8195.968663762435\n",
      "MAE: 2838.4983174530894\n"
     ]
    }
   ],
   "source": [
    "#Gradient Boosting Regressor\n",
    "\n",
    "gbr = GradientBoostingRegressor(n_estimators=70, max_depth=5)\n",
    "gbr.fit(X_train, y_train)\n",
    "model_performance_dict[\"Gradient Boosting Regression\"] = model_diagnostics(gbr)"
   ]
  },
  {
   "cell_type": "code",
   "execution_count": null,
   "metadata": {},
   "outputs": [],
   "source": []
  }
 ],
 "metadata": {
  "kernelspec": {
   "display_name": "Python 3",
   "language": "python",
   "name": "python3"
  },
  "language_info": {
   "codemirror_mode": {
    "name": "ipython",
    "version": 3
   },
   "file_extension": ".py",
   "mimetype": "text/x-python",
   "name": "python",
   "nbconvert_exporter": "python",
   "pygments_lexer": "ipython3",
   "version": "3.7.4"
  }
 },
 "nbformat": 4,
 "nbformat_minor": 2
}
